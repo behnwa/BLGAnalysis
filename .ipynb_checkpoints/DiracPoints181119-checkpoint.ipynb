{
 "cells": [
  {
   "cell_type": "code",
   "execution_count": 69,
   "metadata": {},
   "outputs": [
    {
     "data": {
      "text/plain": [
       "<Figure size 432x288 with 0 Axes>"
      ]
     },
     "metadata": {},
     "output_type": "display_data"
    }
   ],
   "source": [
    "import matplotlib.pyplot as plt\n",
    "from scipy import optimize \n",
    "import numpy as np\n",
    "import seaborn as sns\n",
    "import glob, re, os\n",
    "\n",
    "plt.clf()\n",
    "\n",
    "# _______ define all variables for plotting and importing data ________\n",
    "\n",
    "date = \"181119\"          # Date prefix on the filenames \n",
    "sample = \"BLG_on_HBN\"     # Sample string used in the filenames \n",
    "current = \"5.5nA\"          # Approx. current setpoint of the scans\n",
    "lock_in = \"10mV\"          # Lock-in modulation amplitude \n",
    "\n",
    "maxbias = 300           # Maximum bias voltage applied \n",
    "minbias = -300           # Minimum bias voltage applied\n",
    "\n",
    "maxgate = 30             # Max. gate voltage \n",
    "mingate = -10            # Min. gate voltage \n",
    "gatestep = 1             # Look for gate voltage files beginning with mingate and going up in steps of gatestep\n",
    "\n",
    "dir_name = \"/Users/zkrebs/brarlab/data/blg_sweeps/hBN/181119/\"   # Path for folder containing datafiles \n",
    "os.chdir(dir_name)\n"
   ]
  },
  {
   "cell_type": "code",
   "execution_count": 152,
   "metadata": {},
   "outputs": [],
   "source": [
    "del list"
   ]
  },
  {
   "cell_type": "code",
   "execution_count": 22,
   "metadata": {},
   "outputs": [],
   "source": [
    "def getFileName(gateVoltage):\n",
    "    # Gather list of .dat files that contain the right date and sample strings \n",
    "    spectrum_files = [ f for f in glob.glob(\"*_avg.npy\") if date in f and sample in f ] \n",
    "    for file in spectrum_files:   \n",
    "        result = re.search(\"^.*_(-?\\d*)V\", file)    # Get the gate voltage in filename \n",
    "        try:\n",
    "            gateVal = int(result.group(1)) \n",
    "        except:\n",
    "            continue \n",
    "        if gateVal == gateVoltage: # If we found the right one, return it \n",
    "            return file \n",
    "    return None "
   ]
  },
  {
   "cell_type": "code",
   "execution_count": 68,
   "metadata": {},
   "outputs": [],
   "source": [
    "def fitfunc(p,x):\n",
    "    return p[0]*x + p[1]\n",
    "def residual(p,x,y,err):\n",
    "    return (fitfunc(p,x)-y)/err "
   ]
  },
  {
   "cell_type": "code",
   "execution_count": 157,
   "metadata": {},
   "outputs": [
    {
     "name": "stdout",
     "output_type": "stream",
     "text": [
      "1.7758241758241746\n",
      "3\n",
      "[ 0.87032967 -4.38241758]\n",
      "1.7758241758241746\n",
      "2\n",
      "[ 2. -4.]\n",
      "1.7758241758241746\n",
      "1\n",
      "[1.42807018 0.11578947]\n",
      "[-12. -12. -12. -12. -10.  -8.  -8.  -6.  -6.  -6.  -4.  -4.  -2.  -2.\n",
      "   2.   6.   8.  10.  12.  14.  16.  18.  18.  20.  20.  22.  22.  24.\n",
      "  26.  26.  28.  30.  32.  32.  34.  36.  38.  38.  40.  42.  44.]\n"
     ]
    },
    {
     "data": {
      "text/plain": [
       "<matplotlib.legend.Legend at 0x10d142048>"
      ]
     },
     "execution_count": 157,
     "metadata": {},
     "output_type": "execute_result"
    },
    {
     "data": {
      "image/png": "[encoded data removed]",
      "text/plain": [
       "<Figure size 432x288 with 1 Axes>"
      ]
     },
     "metadata": {},
     "output_type": "display_data"
    }
   ],
   "source": [
    "gatebias = np.arange(mingate, maxgate + gatestep, gatestep)  # Generate list of gate voltages that we want to include\n",
    "gate_intervals = []                                          # To account for uneven gate intervals between data points (more later...)\n",
    "last_gate = mingate \n",
    "\n",
    "ting = []\n",
    "minlim = 0\n",
    "\n",
    "for i in range(0, int((maxgate - mingate)/gatestep) + 1):\n",
    "    curr_gate = gatebias[i]\n",
    "    #print(\"gate \" + str(curr_gate))\n",
    "    datafile = getFileName(gatebias[i])\n",
    "    #print(datafile)\n",
    "    if datafile is None:\n",
    "        continue\n",
    "    dat = np.load(datafile)\n",
    "    bias = dat[minlim:250,0]\n",
    "    dos = dat[minlim:250,1]\n",
    "    where = np.argmin(dos,axis=0)\n",
    "    minlim = where + minlim - 3\n",
    "    #print(minlim)\n",
    "    #print(where)\n",
    "    #print(bias[where])\n",
    "    ting.append([curr_gate,bias[where]])\n",
    "\n",
    "\n",
    "biases = arr[:,0]\n",
    "diracpoint = arr[:,1]\n",
    "error = 2\n",
    "\n",
    "p1 = [5,-2]\n",
    "pf1, cov1, info1, mesg1, success1 = optimize.leastsq(residual, p1, args=(biases[0:14], diracpoint[0:14], error), full_output=1)\n",
    "chisq1 = sum(info1[\"fvec\"]*info1[\"fvec\"])\n",
    "print(chisq1)\n",
    "print(success1)\n",
    "print(pf1)\n",
    "\n",
    "p2 = [3,0]\n",
    "pf2, cov2, info2, mesg2, success2 = optimize.leastsq(residual, p2, args=(biases[15:22], diracpoint[15:22], error), full_output=1)\n",
    "chisq2 = sum(info1[\"fvec\"]*info1[\"fvec\"])\n",
    "print(chisq2)\n",
    "print(success2)\n",
    "print(pf2)\n",
    "\n",
    "p3 = [3,0]\n",
    "pf3, cov3, info3, mesg3, success3 = optimize.leastsq(residual, p3, args=(biases[22:], diracpoint[22:], error), full_output=1)\n",
    "chisq3 = sum(info1[\"fvec\"]*info1[\"fvec\"])\n",
    "print(chisq3)\n",
    "print(success3)\n",
    "print(pf3)\n",
    "print(diracpoint)\n",
    "plt.figure()\n",
    "plt.ylabel(\"EDirac [meV]\")\n",
    "plt.xlabel(\"Gate Voltage [V]\")\n",
    "plt.errorbar(biases, diracpoint, yerr=2, fmt='o', ecolor='g')\n",
    "label1 = \"$%.2f x + %.2f$\" % (pf1[0], pf1[1])\n",
    "label2 = \"$%.2f x + %.2f$\" % (pf2[0], pf2[1])\n",
    "label3 = \"$%.2f x + %.2f$\" % (pf3[0], pf3[1]) \n",
    "plt.plot(biases[0:14+2], fitfunc(pf1,biases)[0:14+2], color='r', label=label1)\n",
    "plt.plot(biases[15-2:21+2], fitfunc(pf2,biases)[15-2:21+2], color='y', label=label2)\n",
    "plt.plot(biases[22-2:], fitfunc(pf3,biases)[22-2:], color='b', label=label3)\n",
    "plt.axvline(x=biases[14], color='gray', linestyle='--')\n",
    "plt.axvline(x=biases[22], color='gray', linestyle='--')\n",
    "plt.title(\"Dirac Point vs. Gate Voltage (Elastic Limit), 11/19/18\")\n",
    "plt.legend(loc='upper left')\n",
    "\n",
    "#list(zip(biases,diracpoint))\n",
    "#np.save(\"/Users/zkrebs/Desktop/points.npy\", np.array(list(zip(biases,diracpoint))))\n",
    "    "
   ]
  },
  {
   "cell_type": "code",
   "execution_count": 5,
   "metadata": {},
   "outputs": [
    {
     "name": "stdout",
     "output_type": "stream",
     "text": [
      "(301, 2)\n"
     ]
    }
   ],
   "source": []
  },
  {
   "cell_type": "code",
   "execution_count": 6,
   "metadata": {},
   "outputs": [],
   "source": []
  },
  {
   "cell_type": "code",
   "execution_count": 10,
   "metadata": {},
   "outputs": [
    {
     "data": {
      "text/plain": [
       "(301, 2)"
      ]
     },
     "execution_count": 10,
     "metadata": {},
     "output_type": "execute_result"
    }
   ],
   "source": []
  },
  {
   "cell_type": "code",
   "execution_count": 13,
   "metadata": {},
   "outputs": [
    {
     "data": {
      "text/plain": [
       "2.9699431e-11"
      ]
     },
     "execution_count": 13,
     "metadata": {},
     "output_type": "execute_result"
    }
   ],
   "source": []
  },
  {
   "cell_type": "code",
   "execution_count": null,
   "metadata": {},
   "outputs": [],
   "source": []
  }
 ],
 "metadata": {
  "kernelspec": {
   "display_name": "Python 3",
   "language": "python",
   "name": "python3"
  },
  "language_info": {
   "codemirror_mode": {
    "name": "ipython",
    "version": 3
   },
   "file_extension": ".py",
   "mimetype": "text/x-python",
   "name": "python",
   "nbconvert_exporter": "python",
   "pygments_lexer": "ipython3",
   "version": "3.6.5"
  }
 },
 "nbformat": 4,
 "nbformat_minor": 2
}
