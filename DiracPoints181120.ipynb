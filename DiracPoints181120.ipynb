{
 "cells": [
  {
   "cell_type": "code",
   "execution_count": 283,
   "metadata": {},
   "outputs": [
    {
     "data": {
      "text/plain": [
       "<Figure size 432x288 with 0 Axes>"
      ]
     },
     "metadata": {},
     "output_type": "display_data"
    }
   ],
   "source": [
    "import matplotlib.pyplot as plt\n",
    "from scipy import optimize \n",
    "import numpy as np\n",
    "import seaborn as sns\n",
    "import glob, re, os\n",
    "\n",
    "plt.clf()\n",
    "\n",
    "# _______ define all variables for plotting and importing data ________\n",
    "\n",
    "date = \"181120\"          # Date prefix on the filenames \n",
    "sample = \"BLG_on_HBN\"     # Sample string used in the filenames \n",
    "current = \"3nA\"          # Approx. current setpoint of the scans\n",
    "lock_in = \"5mV\"          # Lock-in modulation amplitude \n",
    "\n",
    "maxbias = 500           # Maximum bias voltage applied \n",
    "minbias = -500           # Minimum bias voltage applied\n",
    "\n",
    "maxgate = 20             # Max. gate voltage \n",
    "mingate = 0            # Min. gate voltage \n",
    "gatestep = 1             # Look for gate voltage files beginning with mingate and going up in steps of gatestep\n",
    "\n",
    "dir_name = \"/Users/zkrebs/brarlab/data/blg_sweeps/hBN/181120/\"   # Path for folder containing datafiles \n",
    "os.chdir(dir_name)"
   ]
  },
  {
   "cell_type": "code",
   "execution_count": 284,
   "metadata": {},
   "outputs": [],
   "source": [
    "def getFileName(gateVoltage):\n",
    "    # Gather list of .dat files that contain the right date and sample strings \n",
    "    spectrum_files = [ f for f in glob.glob(\"*.dat\") if date in f and sample in f ] \n",
    "    for file in spectrum_files:   \n",
    "        result = re.search(\"^.*_(-?\\d*)V\", file)    # Get the gate voltage in filename \n",
    "        try:\n",
    "            gateVal = int(result.group(1)) \n",
    "        except:\n",
    "            continue \n",
    "        if gateVal == gateVoltage: # If we found the right one, return it \n",
    "            return file \n",
    "    return None "
   ]
  },
  {
   "cell_type": "code",
   "execution_count": 372,
   "metadata": {},
   "outputs": [],
   "source": [
    "def double(p,x):\n",
    "    a = p[0]/(p[2]*np.sqrt(2*np.pi))*np.exp(-(x-p[1])**2/(2*p[2]**2)) + p[3]\n",
    "    b = p[4]/(p[6]*np.sqrt(2*np.pi))*np.exp(-(x-p[5])**2/(2*p[6]**2)) + p[7]\n",
    "    return (a + b)\n",
    "def residual(p,x,y,):\n",
    "    return (double(p,x)-y)"
   ]
  },
  {
   "cell_type": "code",
   "execution_count": 417,
   "metadata": {},
   "outputs": [],
   "source": [
    "gatebias = np.arange(mingate, maxgate + gatestep, gatestep)  # Generate list of gate voltages that we want to include\n",
    "gate_intervals = []                                          # To account for uneven gate intervals between data points (more later...)\n",
    "last_gate = mingate \n",
    "\n",
    "leftgapdata = []\n",
    "rightgapdata = []\n",
    "\n",
    "for i in range(0, int((maxgate - mingate)/gatestep) + 1):\n",
    "    curr_gate = gatebias[i]\n",
    "    datafile = getFileName(gatebias[i])\n",
    "    if datafile is None:\n",
    "        continue\n",
    "    \n",
    "    dIdV_f = np.genfromtxt( datafile, dtype=float, comments=\"#\", usecols=(3), skip_header=19) # Extract Demod1X signal (forward direction)\n",
    "    #dIdV_b = np.genfromtxt( datafile, dtype=float, comments=\"#\", usecols=(7), skip_header=19) # Backward direction   \n",
    "    #dIdV_avg = (dIdV_f + dIdV_b)/2\n",
    "    I_f = np.genfromtxt( datafile, dtype=float, comments=\"#\", usecols=(1), skip_header=19)\n",
    "    #I_b = np.genfromtxt( datafile, dtype=float, comments=\"#\", usecols=(5), skip_header=19)\n",
    "    #I_avg = (I_f+I_b)/2\n",
    "    \n",
    "    V = np.genfromtxt( datafile, dtype=float, comments=\"#\", usecols=(2), skip_header=19)\n",
    "    I = I_f\n",
    "    dIdV = dIdV_f\n",
    "    dIdVnorm = dIdV/(I/V)\n",
    "    \n",
    "    #l = 135\n",
    "    #r=170\n",
    "    \n",
    "    #dIdV_left = dIdV[:l]\n",
    "    #dIdV_right = dIdV[r:]\n",
    "    #dIdV = np.concatenate((dIdV_left, dIdV_right), axis=0)\n",
    "\n",
    "    #dIdVnorm_left = dIdVnorm[:l]\n",
    "    #dIdVnorm_right = dIdVnorm[r:]\n",
    "    #dIdVnorm_inelastic = np.concatenate((dIdVnorm_left, dIdVnorm_right), axis=0)\n",
    "     \n",
    "    leftwindowdIdV  = dIdV[122:135]\n",
    "    rightwindowdIdV = dIdV[]\n",
    "    gapdata.append(windowdIdV)\n",
    "\n",
    "windowV = V[122:135]*1000\n",
    "\n",
    "   "
   ]
  },
  {
   "cell_type": "code",
   "execution_count": 418,
   "metadata": {},
   "outputs": [
    {
     "name": "stdout",
     "output_type": "stream",
     "text": [
      "1.8957712663933266e-24\n",
      "1\n",
      "[ 1.48929282e-10 -7.88008974e+01  8.15018752e+00  5.05696561e-11\n",
      "  4.59351705e-11 -6.00121234e+01  3.63527060e+00 -3.56282706e-11]\n"
     ]
    },
    {
     "data": {
      "image/png": "[encoded data removed]",
      "text/plain": [
       "<Figure size 432x288 with 1 Axes>"
      ]
     },
     "metadata": {},
     "output_type": "display_data"
    }
   ],
   "source": [
    "gate = 0\n",
    "fitdata = gapdata[gate]\n",
    "p1 = [3e-11,-80,5,0,2e-11,-60,3,0]\n",
    "pf1, cov1, info1, mesg1, success1 = optimize.leastsq(residual, p1, args=(windowV[:], fitdata[:]), full_output=1)\n",
    "chisq1 = sum(info1[\"fvec\"]*info1[\"fvec\"])\n",
    "#pferr1 = [np.sqrt(cov1[i,i]) for i in range(len(pf1))]\n",
    "#print(pferr1)\n",
    "print(chisq1)\n",
    "print(success1)\n",
    "print(pf1)\n",
    "\n",
    "\n",
    "peakdiff = np.abs(pf1[1] - pf1[5])\n",
    "center = pf1[1] + (peakdiff/2)\n",
    "infotext = \"Peak1: %.2f\\nPeak2: %.2f\\nDPoint: %.2f\" % (pf1[1],pf1[5],center)\n",
    "\n",
    "\n",
    "plt.plot(windowV, fitdata, 'o', label='Data')\n",
    "plt.plot(windowV, double(pf1,windowV), label='Fit')\n",
    "plt.axvline(x=pf1[1], color='gray', linestyle='--')\n",
    "plt.axvline(x=pf1[5], color='gray', linestyle='--')\n",
    "plt.axvline(x=center, color='red', linestyle='--')\n",
    "plt.text(-90, 1.6e-11, infotext)\n",
    "plt.xlabel(\"Tip Bias [mV]\")\n",
    "plt.ylabel(\"dIdV [arb. units]\")\n",
    "plt.title(\"Double Gaussian Fitting to Dirac Point, Gate=\" + str(gate) + \"V\")\n",
    "plt.legend()\n",
    "\n",
    "\n",
    "np.save(\"leftwindow_fit-dgaussian_params_\" + str(gate) + \"V.npy\", pf1)\n",
    "plt.savefig(\"leftwindow_fit-dgaussian_plot_\" + str(gate) + \"V.png\")"
   ]
  },
  {
   "cell_type": "code",
   "execution_count": null,
   "metadata": {},
   "outputs": [],
   "source": []
  }
 ],
 "metadata": {
  "kernelspec": {
   "display_name": "Python 3",
   "language": "python",
   "name": "python3"
  },
  "language_info": {
   "codemirror_mode": {
    "name": "ipython",
    "version": 3
   },
   "file_extension": ".py",
   "mimetype": "text/x-python",
   "name": "python",
   "nbconvert_exporter": "python",
   "pygments_lexer": "ipython3",
   "version": "3.6.5"
  }
 },
 "nbformat": 4,
 "nbformat_minor": 2
}
