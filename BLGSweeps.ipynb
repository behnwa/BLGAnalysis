{
 "cells": [
  {
   "cell_type": "code",
   "execution_count": 8,
   "metadata": {
    "scrolled": true
   },
   "outputs": [
    {
     "name": "stdout",
     "output_type": "stream",
     "text": [
      "(202, 29)\n",
      "(202, 140)\n"
     ]
    },
    {
     "data": {
      "text/plain": [
       "<Figure size 432x288 with 0 Axes>"
      ]
     },
     "metadata": {},
     "output_type": "display_data"
    },
    {
     "data": {
      "image/png": "[encoded data removed]",
      "text/plain": [
       "<Figure size 432x288 with 2 Axes>"
      ]
     },
     "metadata": {},
     "output_type": "display_data"
    }
   ],
   "source": [
    "import matplotlib.pyplot as plt\n",
    "import numpy as np\n",
    "import seaborn as sns\n",
    "import glob, re, os\n",
    "\n",
    "plt.clf()\n",
    "\n",
    "# _______ define all variables for plotting and importing data ________\n",
    "\n",
    "date = \"180817\"\n",
    "sample = \"BLG_on_Si\"\n",
    "\n",
    "maxbias = 500\n",
    "minbias = -500\n",
    "\n",
    "maxgate = 70\n",
    "mingate = -70\n",
    "gatestep = 1\n",
    "\n",
    "gateAxisInterval = 5\n",
    "biasAxisInterval = 50\n",
    "\n",
    "gateLabels = np.arange(mingate, maxgate + gateAxisInterval, gateAxisInterval)\n",
    "numGateTicks = len(gateLabels)\n",
    "biasLabels = np.arange(minbias, maxbias + biasAxisInterval, biasAxisInterval)\n",
    "numBiasTicks = len(biasLabels)\n",
    "\n",
    "\n",
    "dir_name = \"/Users/zkrebs/brarlab/data/blg_sweeps/180817/3.5nA\"\n",
    "os.chdir(dir_name)\n",
    "\n",
    "# ________ end definitions ________\n",
    "\n",
    "def getFileName(gateVoltage):\n",
    "    spectrum_files = [ f for f in glob.glob(\"*.dat\") if date in f and sample in f ]\n",
    "    for file in spectrum_files:  \n",
    "        result = re.search(\"^.*_(-?\\d*)V\", file)\n",
    "        try:\n",
    "            gateVal = int(result.group(1)) \n",
    "        except:\n",
    "            continue \n",
    "        if gateVal == gateVoltage: \n",
    "            return file \n",
    "    return None \n",
    "\n",
    "gatebias = np.arange(mingate, maxgate + gatestep, gatestep)\n",
    "gate_intervals = []\n",
    "last_gate = mingate \n",
    "\n",
    "for i in range(0, int((maxgate - mingate)/gatestep) + 1):\n",
    "    curr_gate = gatebias[i]\n",
    "    datafile = getFileName(gatebias[i])\n",
    "    if datafile is None:\n",
    "        continue\n",
    "      \n",
    "    gate_intervals.append(curr_gate-last_gate)\n",
    "    \n",
    "    dIdV_f = np.genfromtxt( datafile, dtype=float, comments=\"#\", usecols=(3), skip_header=36)\n",
    "    dIdV_b = np.genfromtxt( datafile, dtype=float, comments=\"#\", usecols=(7), skip_header=36)\n",
    "    #I      = np.genfromtxt( datafile, dtype=float, comments=\"#\", usecols=(1), skip_header=19)\n",
    "    #V      = np.genfromtxt( datafile, dtype=float, comments=\"#\", usecols=(2), skip_header=19)\n",
    "    \n",
    "    dIdV_avg = (dIdV_f + dIdV_b)/2\n",
    "    #norm = np.divide(I,V)\n",
    "    #ind = int(dIdV_avg.size/2)\n",
    "    #dIdV_avg = np.delete(dIdV_avg,np.s_[ind-2:ind+2])\n",
    "    #norm = np.delete(norm,np.s_[ind-2:ind+2])\n",
    "    dIdV_avg_norm = np.flip(dIdV_avg,axis=0)\n",
    "    \n",
    "    last_gate = curr_gate \n",
    "    if i == 0:\n",
    "        sweep = dIdV_avg_norm \n",
    "    else:\n",
    "        sweep = np.vstack([sweep,dIdV_avg_norm])\n",
    "\n",
    "gate_intervals.pop(0)\n",
    "new = sweep[0]\n",
    "for i in range(0, len(gate_intervals)):\n",
    "    if i == 0: k = 1\n",
    "    else:      k = 0\n",
    "    for j in range(0, gate_intervals[i]-k):\n",
    "        new = np.vstack([new, sweep[i]])\n",
    "\n",
    "sweep = sweep.transpose()\n",
    "new = new.transpose()\n",
    "\n",
    "print(np.shape(sweep))\n",
    "print(np.shape(new))\n",
    "\n",
    "plt.figure()\n",
    "cmap = sns.diverging_palette(250, 12, l = 33, as_cmap=True)\n",
    "ax = sns.heatmap(new, cbar_kws={'label': 'dI/dV [arb. units]'}, cmap = cmap)\n",
    "\n",
    "\n",
    "gateLocs = np.arange(0, np.shape(new)[1], np.shape(new)[1]/numGateTicks)\n",
    "gateLocs += np.shape(new)[1]/(2*numGateTicks)\n",
    "biasLocs = np.flip(np.arange(0, np.shape(new)[0], np.shape(new)[0]/numBiasTicks), axis=0)\n",
    "biasLocs += np.shape(new)[0]/(2*numGateTicks)\n",
    "\n",
    "plt.xticks(gateLocs, [ str(label) for label in gateLabels] )\n",
    "plt.yticks(biasLocs, [ str(label) for label in biasLabels] )\n",
    "\n",
    "#oldxlabels = [int(item.get_text()) for item in ax.get_xticklabels()]\n",
    "#print(oldxlabels)\n",
    "#newxlabels = list(map( lambda x : int(mingate + x*(maxgate-mingate)/(max(oldxlabels)+4)), oldxlabels ))\n",
    "#ax.set_xticklabels(newxlabels)\n",
    "\n",
    "#oldylabels = [int(item.get_text()) for item in ax.get_yticklabels()]\n",
    "#newylabels = list(map( lambda x : int(maxbias + x*(minbias-maxbias)/max(oldylabels)), oldylabels ))\n",
    "#ax.set_yticklabels(newylabels)\n",
    "\n",
    "plt.xlabel('Gate Voltage [V]')\n",
    "plt.ylabel('Tip Bias [mV]')\n",
    "         \n",
    "plt.show()"
   ]
  },
  {
   "cell_type": "code",
   "execution_count": null,
   "metadata": {},
   "outputs": [],
   "source": []
  },
  {
   "cell_type": "code",
   "execution_count": null,
   "metadata": {},
   "outputs": [],
   "source": []
  }
 ],
 "metadata": {
  "kernelspec": {
   "display_name": "Python 3",
   "language": "python",
   "name": "python3"
  },
  "language_info": {
   "codemirror_mode": {
    "name": "ipython",
    "version": 3
   },
   "file_extension": ".py",
   "mimetype": "text/x-python",
   "name": "python",
   "nbconvert_exporter": "python",
   "pygments_lexer": "ipython3",
   "version": "3.6.5"
  }
 },
 "nbformat": 4,
 "nbformat_minor": 2
}
