{
 "cells": [
  {
   "cell_type": "code",
   "execution_count": null,
   "metadata": {},
   "outputs": [],
   "source": [
    "import matplotlib.pyplot as plt\n",
    "import numpy as np\n",
    "import seaborn as sns\n",
    "import glob, re, os\n",
    "\n",
    "dir_name = \"/Users/zkrebs/brarlab/data/blg_sweeps/180904/3nA\"   # Path for folder containing datafiles \n",
    "os.chdir(dir_name)\n",
    "\n",
    "for file in glob.glob(\".dat\"): \n",
    "\n",
    "\n",
    "dIdV_f = np.genfromtxt( datafile, dtype=float, comments=\"#\", usecols=(4), skip_header=19) # Extract Demod1X signal (forward direction)\n",
    "dIdV_b = np.genfromtxt( datafile, dtype=float, comments=\"#\", usecols=(9), skip_header=19) # Backward direction   \n",
    "dIdV_avg = (dIdV_f + dIdV_b)/2\n",
    "dIdV_avg_norm = np.flip(dIdV_avg,axis=0)"
   ]
  }
 ],
 "metadata": {
  "kernelspec": {
   "display_name": "Python 3",
   "language": "python",
   "name": "python3"
  },
  "language_info": {
   "codemirror_mode": {
    "name": "ipython",
    "version": 3
   },
   "file_extension": ".py",
   "mimetype": "text/x-python",
   "name": "python",
   "nbconvert_exporter": "python",
   "pygments_lexer": "ipython3",
   "version": "3.6.5"
  }
 },
 "nbformat": 4,
 "nbformat_minor": 2
}
